{
 "cells": [
  {
   "cell_type": "markdown",
   "metadata": {},
   "source": [
    "# 超小型红外收发器主板设计\n",
    "## 尺寸目标：10×10mm"
   ]
  },
  {
   "cell_type": "markdown",
   "metadata": {},
   "source": [
    "## 核心零件清单"
   ]
  },
  {
   "cell_type": "code",
   "execution_count": null,
   "metadata": {},
   "outputs": [],
   "source": [
    "import pandas as pd\n",
    "\n",
    "components = {\n",
    "    \"类别\": [\"MCU\", \"红外发射\", \"红外接收\", \"电源管理\", \"被动元件\", \"接口\", \"PCB\"],\n",
    "    \"零件\": [\"STM32G030F6P6\", \"TSAL7600 + 100Ω电阻\", \"TSOP38438 + 1μF电容\", \n",
    "            \"MCP1700 + 4.7μF电容\", \"104电容×2 + 10k电阻\", \"半孔焊盘\", \"4层板\"],\n",
    "    \"型号\": [\"TSSOP-20\", \"0805 + 0402\", \"TSOP-5 + 0402\", \n",
    "            \"SOT-23-3 + 0402\", \"0402×3\", \"0.5mm半孔\", \"ENIG 0.8mm\"],\n",
    "    \"尺寸(mm)\": [\"3×3\", \"2.0×1.25\", \"2.7×2.4\", \"2.9×1.6\", \"1.0×0.5×3\", \"板边\", \"10×10×0.8\"],\n",
    "    \"功能\": [\"主控制器\", \"940nm发射\", \"38kHz接收\", \"3.3V稳压\", \"退耦/复位\", \"板间连接\", \"电路载体\"]\n",
    "}\n",
    "\n",
    "df = pd.DataFrame(components)\n",
    "df.style.set_properties(**{'text-align': 'left'})"
   ]
  },
  {
   "cell_type": "markdown",
   "metadata": {},
   "source": [
    "## 电路设计计算"
   ]
  },
  {
   "cell_type": "code",
   "execution_count": null,
   "metadata": {},
   "outputs": [],
   "source": [
    "def calculate_ir_resistor(vcc, vf, desired_current):\n",
    "    \"\"\"计算红外发射管限流电阻值\"\"\"\n",
    "    resistance = (vcc - vf) / desired_current\n",
    "    return resistance\n",
    "\n",
    "# 参数设置\n",
    "VCC = 3.3    # 供电电压(V)\n",
    "VF = 1.2     # IR LED正向压降(V)\n",
    "CURRENT = 0.02  # 期望电流(A)\n",
    "\n",
    "# 计算电阻值\n",
    "r_value = calculate_ir_resistor(VCC, VF, CURRENT)\n",
    "print(f\"限流电阻计算值: {r_value:.0f} Ω\")\n",
    "print(f\"实际选用: 100 Ω 0402封装 (1%精度)\")\n",
    "\n",
    "# 功率验证\n",
    "power = r_value * (CURRENT ** 2)\n",
    "print(f\"\\n电阻功率: {power*1000:.2f} mW (0402封装支持62.5mW，符合要求)\")"
   ]
  },
  {
   "cell_type": "markdown",
   "metadata": {},
   "source": [
    "## PCB布局规划\n",
    "```\n",
    "┌─────────────────┐\n",
    "│  [IR RX]        │  <- TSOP38438 (贴顶部边缘)\n",
    "│  ┌───┐          │\n",
    "│  │MCU│ [IR LED] │  <- MCU旁紧贴发射管\n",
    "│  └───┘          │\n",
    "│  [LDO]  [CAP]   │  <- 电源模块角落布局\n",
    "└─────────────────┘\n",
    "尺寸：10mm×10mm（4层板）\n",
    "```"
   ]
  },
  {
   "cell_type": "markdown",
   "metadata": {},
   "source": [
    "## 制造规范"
   ]
  },
  {
   "cell_type": "code",
   "execution_count": null,
   "metadata": {},
   "outputs": [],
   "source": [
    "from IPython.display import HTML\n",
    "\n",
    "spec_table = \"\"\"\n",
    "<table>\n",
    "  <tr><th>参数</th><th>要求</th><th>说明</th></tr>\n",
    "  <tr><td>PCB层数</td><td>4层</td><td>信号-地-电源-信号</td></tr>\n",
    "  <tr><td>板厚</td><td>0.8mm</td><td>±0.1mm公差</td></tr>\n",
    "  <tr><td>铜厚</td><td>1oz (35μm)</td><td>内层/外层</td></tr>\n",
    "  <tr><td>表面处理</td><td>ENIG</td><td>沉金，厚度≥0.05μm</td></tr>\n",
    "  <tr><td>最小线宽</td><td>0.1mm</td><td>电源线≥0.3mm</td></tr>\n",
    "  <tr><td>最小间距</td><td>0.1mm</td><td>信号线间</td></tr>\n",
    "  <tr><td>过孔尺寸</td><td>0.2mm/0.1mm</td><td>激光钻孔</td></tr>\n",
    "  <tr><td>半孔工艺</td><td>板边0.5mm半孔</td><td>树脂塞孔</td></tr>\n",
    "  <tr><td>钢网厚度</td><td>0.08mm</td><td>激光切割</td></tr>\n",
    "</table>\n",
    "\"\"\"\n",
    "\n",
    "HTML(spec_table)"
   ]
  },
  {
   "cell_type": "markdown",
   "metadata": {},
   "source": [
    "## 测试验证点\n",
    "1. **发射端**：IR LED阴极 - 检查38kHz PWM波形\n",
    "2. **接收端**：MCU GPIO输入 - 验证信号完整性\n",
    "3. **电源**：LDO输出 - 确认3.3V±2%\n",
    "4. **功耗**：\n",
    "   - 待机：<50μA\n",
    "   - 发射峰值：≈30mA"
   ]
  },
  {
   "cell_type": "markdown",
   "metadata": {},
   "source": [
    "## 备选方案对比"
   ]
  },
  {
   "cell_type": "code",
   "execution_count": null,
   "metadata": {},
   "outputs": [],
   "source": [
    "import matplotlib.pyplot as plt\n",
    "\n",
    "# 方案数据\n",
    "solutions = {\n",
    "    '方案': ['基础方案', '极限压缩', '商业模块'],\n",
    "    '尺寸(mm²)': [100, 64, 35],\n",
    "    '成本(USD)': [1.2, 1.8, 3.0],\n",
    "    '灵活性': [5, 4, 2]  # 评分1-5\n",
    "}\n",
    "\n",
    "fig, (ax1, ax2) = plt.subplots(1, 2, figsize=(12, 4))\n",
    "\n",
    "# 尺寸-成本散点图\n",
    "ax1.scatter(solutions['尺寸(mm²)'], solutions['成本(USD)'], s=100)\n",
    "for i, sol in enumerate(solutions['方案']):\n",
    "    ax1.annotate(sol, (solutions['尺寸(mm²)'][i], solutions['成本(USD)'][i]+0.1))\n",
    "ax1.set_title('尺寸 vs 成本')\n",
    "ax1.set_xlabel('PCB面积 (mm²)')\n",
    "ax1.set_ylabel('成本 (USD)')\n",
    "ax1.grid(True)\n",
    "\n",
    "# 灵活性雷达图\n",
    "categories = ['尺寸', '成本', '灵活性', '易生产', '性能']\n",
    "values_base = [4, 5, 5, 4, 4]  # 基础方案\n",
    "values_mini = [5, 3, 4, 3, 4]   # 极限压缩\n",
    "values_mod = [5, 2, 2, 5, 4]    # 商业模块\n",
    "\n",
    "angles = [n / float(len(categories)) * 2 * 3.14159 for n in range(len(categories))]\n",
    "angles += angles[:1]  # 闭合\n",
    "\n",
    "ax2 = plt.subplot(122, polar=True)\n",
    "ax2.plot(angles, values_base + values_base[:1], 'o-', label='基础方案')\n",
    "ax2.plot(angles, values_mini + values_mini[:1], 'o-', label='极限压缩')\n",
    "ax2.plot(angles, values_mod + values_mod[:1], 'o-', label='商业模块')\n",
    "ax2.set_xticks(angles[:-1])\n",
    "ax2.set_xticklabels(categories)\n",
    "ax2.set_title('方案对比雷达图')\n",
    "ax2.legend(loc='upper right')\n",
    "\n",
    "plt.tight_layout()\n",
    "plt.show()"
   ]
  }
 ],
 "metadata": {
  "kernelspec": {
   "display_name": "Python 3",
   "language": "python",
   "name": "python3"
  },
  "language_info": {
   "codemirror_mode": {
    "name": "ipython",
    "version": 3
   },
   "file_extension": ".py",
   "mimetype": "text/x-python",
   "name": "python",
   "nbconvert_exporter": "python",
   "pygments_lexer": "ipython3",
   "version": "3.8.5"
  }
 }
}
